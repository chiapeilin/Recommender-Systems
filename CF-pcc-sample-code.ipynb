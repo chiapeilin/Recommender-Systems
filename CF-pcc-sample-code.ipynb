{
 "cells": [
  {
   "cell_type": "markdown",
   "metadata": {},
   "source": [
    "# Sample Code for HW5\n",
    "# User-based and Item-based CF (Pearson Correlation Coefficient)\n",
    "## Convert the rating file into a user-item matrix"
   ]
  },
  {
   "cell_type": "code",
   "execution_count": 1,
   "metadata": {},
   "outputs": [
    {
     "name": "stdout",
     "output_type": "stream",
     "text": [
      "Number of users = 943 | Number of movies = 1682\n",
      "[[5. 3. 4. ... 0. 0. 0.]\n",
      " [4. 0. 0. ... 0. 0. 0.]\n",
      " [0. 0. 0. ... 0. 0. 0.]\n",
      " ...\n",
      " [5. 0. 0. ... 0. 0. 0.]\n",
      " [0. 0. 0. ... 0. 0. 0.]\n",
      " [0. 5. 0. ... 0. 0. 0.]]\n"
     ]
    }
   ],
   "source": [
    "import numpy as np\n",
    "import pandas as pd\n",
    "\n",
    "ratingfile = 'ratings.data'\n",
    "header = ['user_id', 'item_id', 'rating', 'timestamp']\n",
    "df = pd.read_csv(ratingfile, sep='\\t', names=header)\n",
    "\n",
    "n_users = df.user_id.unique().shape[0]\n",
    "n_items = df.item_id.unique().shape[0]\n",
    "print('Number of users = ' + str(n_users) + ' | Number of movies = ' + str(n_items))\n",
    "\n",
    "user_item_matrix = np.zeros((n_users, n_items))\n",
    "for line in df.itertuples():\n",
    "    user_item_matrix[line[1] - 1, line[2] - 1] = line[3]\n",
    "print(user_item_matrix)"
   ]
  },
  {
   "cell_type": "code",
   "execution_count": 3,
   "metadata": {
    "scrolled": false
   },
   "outputs": [
    {
     "name": "stdout",
     "output_type": "stream",
     "text": [
      "[[ 1.38970588 -0.59702098  0.41620336 ...  0.          0.\n",
      "   0.        ]\n",
      " [ 0.29032258  0.          0.         ...  0.          0.\n",
      "   0.        ]\n",
      " [ 0.          0.          0.         ...  0.          0.\n",
      "   0.        ]\n",
      " ...\n",
      " [ 0.95454545  0.          0.         ...  0.          0.\n",
      "   0.        ]\n",
      " [ 0.          0.          0.         ...  0.          0.\n",
      "   0.        ]\n",
      " [ 0.          1.58928571  0.         ...  0.          0.\n",
      "   0.        ]]\n"
     ]
    }
   ],
   "source": [
    "#cosine\n",
    "user_item_matrix_cos=user_item_matrix.copy()\n",
    "#Pre-compute the user-user similarity matrix \n",
    "for i in range(len(user_item_matrix_cos)):\n",
    "    for j in range(len(user_item_matrix_cos[i])):\n",
    "        #if element is zero,then skip.\n",
    "        if user_item_matrix_cos[i][j]==0:\n",
    "            continue\n",
    "        #if element is nonzero,then substract the mean of sum nonzero value\n",
    "        else:\n",
    "            user_item_matrix_cos[i][j]=user_item_matrix_cos[i][j]-user_item_matrix_cos[i][np.where(user_item_matrix_cos[i]!=0)].mean()\n",
    "print(user_item_matrix_cos)    \n",
    "    "
   ]
  },
  {
   "cell_type": "code",
   "execution_count": 4,
   "metadata": {
    "scrolled": true
   },
   "outputs": [
    {
     "name": "stdout",
     "output_type": "stream",
     "text": [
      "[[0.         0.09244434 0.00171567 ... 0.07444113 0.05980103 0.20329836]\n",
      " [0.09244434 0.         0.01243077 ... 0.06839208 0.12013874 0.05749155]\n",
      " [0.00171567 0.01243077 0.         ... 0.00324127 0.06860065 0.01271675]\n",
      " ...\n",
      " [0.07444113 0.06839208 0.00324127 ... 0.         0.03649925 0.08119899]\n",
      " [0.05980103 0.12013874 0.06860065 ... 0.03649925 0.         0.09304765]\n",
      " [0.20329836 0.05749155 0.01271675 ... 0.08119899 0.09304765 0.        ]]\n"
     ]
    }
   ],
   "source": [
    "import scipy.stats\n",
    "import scipy.spatial\n",
    "import math\n",
    "from math import sqrt\n",
    "\n",
    "#Write Cosin function\n",
    "def cosine(ru,rv):\n",
    "    return (ru@rv) / (((ru@ru)**.5) * ((rv@rv)**.5))\n",
    "\n",
    "user_similarity_cos = np.zeros((n_users,n_users))\n",
    "\n",
    "# compute the similarities in the upper triangle part\n",
    "for user1 in range(n_users):\n",
    "    for user2 in range(n_users):\n",
    "        if(user1 <= user2):\n",
    "            break\n",
    "        try:\n",
    "            user_similarity_cos[user1][user2] = cosine(user_item_matrix_cos[user1], user_item_matrix_cos[user2])\n",
    "        except:\n",
    "            user_similarity_cos[user1][user2] = 0\n",
    "                \n",
    "# complete all entries by  add the transposed similarity matrix to our\n",
    "# previously computed values                \n",
    "user_similarity_cos = user_similarity_cos + user_similarity_cos.T\n",
    "#print(user_similarity_pearson)\n",
    "print(user_similarity_cos)"
   ]
  },
  {
   "cell_type": "code",
   "execution_count": 5,
   "metadata": {
    "scrolled": true
   },
   "outputs": [
    {
     "name": "stdout",
     "output_type": "stream",
     "text": [
      "[[ 1.12168142  0.13026177  0.         ...  3.57166602  0.\n",
      "   0.        ]\n",
      " [-0.20610687  0.          0.         ...  0.          0.\n",
      "   3.81601729]\n",
      " [ 0.96666667  0.          0.         ...  0.          0.\n",
      "   0.        ]\n",
      " ...\n",
      " [ 0.          0.          0.         ...  0.          0.\n",
      "   0.        ]\n",
      " [ 0.          0.          0.         ...  0.          0.\n",
      "   0.        ]\n",
      " [ 0.          0.          0.         ...  0.          0.\n",
      "   0.        ]]\n"
     ]
    }
   ],
   "source": [
    "#Pre-compute the item-item similarity matrix \n",
    "item_item_matrix_cos=user_item_matrix.T.copy()\n",
    "for i in range(len(item_item_matrix_cos)):\n",
    "    for j in range(len(item_item_matrix_cos[i])):\n",
    "        if item_item_matrix_cos[i][j]==0:\n",
    "            continue\n",
    "        else:\n",
    "            item_item_matrix_cos[i][j]=item_item_matrix_cos[i][j]-item_item_matrix_cos[i][np.where(item_item_matrix_cos[i]!=0)].mean()\n",
    "print(item_item_matrix_cos)  "
   ]
  },
  {
   "cell_type": "code",
   "execution_count": 6,
   "metadata": {},
   "outputs": [
    {
     "data": {
      "text/plain": [
       "array([[5., 3., 4., ..., 0., 0., 0.],\n",
       "       [4., 0., 0., ..., 0., 0., 0.],\n",
       "       [0., 0., 0., ..., 0., 0., 0.],\n",
       "       ...,\n",
       "       [5., 0., 0., ..., 0., 0., 0.],\n",
       "       [0., 0., 0., ..., 0., 0., 0.],\n",
       "       [0., 5., 0., ..., 0., 0., 0.]])"
      ]
     },
     "execution_count": 6,
     "metadata": {},
     "output_type": "execute_result"
    }
   ],
   "source": [
    "user_item_matrix"
   ]
  },
  {
   "cell_type": "code",
   "execution_count": 7,
   "metadata": {},
   "outputs": [
    {
     "name": "stdout",
     "output_type": "stream",
     "text": [
      "[[0.         0.40238218 0.33024479 ... 0.         0.04718307 0.04718307]\n",
      " [0.40238218 0.         0.27306918 ... 0.         0.07829936 0.07829936]\n",
      " [0.33024479 0.27306918 0.         ... 0.         0.         0.09687505]\n",
      " ...\n",
      " [0.         0.         0.         ... 0.         0.         0.        ]\n",
      " [0.04718307 0.07829936 0.         ... 0.         0.         0.        ]\n",
      " [0.04718307 0.07829936 0.09687505 ... 0.         0.         0.        ]]\n"
     ]
    }
   ],
   "source": [
    "item_similarity_cos = np.zeros((n_items, n_items))\n",
    "datas = user_item_matrix.T.copy()\n",
    "\n",
    "# compute the similarities in the upper triangle part\n",
    "for item1 in range(n_items):\n",
    "    for item2 in range(n_items):\n",
    "        if item1 <= item2:\n",
    "            break\n",
    "        try:\n",
    "            item_similarity_cos[item1][item2] = cosine(datas[item1], datas[item2])\n",
    "        except:\n",
    "            item_similarity_cos[item1][item2] = 0\n",
    "                \n",
    "# complete all entries by  add the transposed similarity matrix to our\n",
    "# previously computed values                \n",
    "item_similarity_cos = item_similarity_cos + item_similarity_cos.T\n",
    "print(item_similarity_cos)"
   ]
  },
  {
   "cell_type": "code",
   "execution_count": 8,
   "metadata": {},
   "outputs": [],
   "source": [
    "from sklearn.metrics import mean_squared_error\n",
    "from sklearn.model_selection import train_test_split\n",
    "\n",
    "# split the data set into training set and testing set\n",
    "train_data, test_data = train_test_split(df, test_size=0.25)"
   ]
  },
  {
   "cell_type": "code",
   "execution_count": 9,
   "metadata": {},
   "outputs": [],
   "source": [
    "#Rating predict function based on the the user-user similarity\n",
    "def userbased_predict_rmse(train, test, user_similarity, n_users, n_items, k):\n",
    "    \n",
    "    print(\"Compute User-based CF RMSE .......\", \"K =\", k)\n",
    "    # transfer the train set of ratings to user-item matrix\n",
    "    \n",
    "    train = pd.DataFrame(train)\n",
    "    test = pd.DataFrame(test)\n",
    "\n",
    "    train_matrix = np.zeros((n_users, n_items))\n",
    "    for line in train.itertuples():\n",
    "        train_matrix[int(line[1]) - 1, int(line[2]) - 1] = line[3]\n",
    "\n",
    "    true_rate = []\n",
    "    pred_rate = []\n",
    "\n",
    "    for line in test.itertuples():\n",
    "        user = int(line[1])\n",
    "        item = int(line[2])\n",
    "        true_rate.append(line[3])\n",
    "\n",
    "        item_pred = 3.0\n",
    "\n",
    "        if np.count_nonzero(train_matrix[user-1]):\n",
    "            sim_cos = user_similarity[user - 1]\n",
    "            # sort the similarities in descending order, find the k similar items which has the largest similarities\n",
    "            sortedindex = np.argsort(-sim_cos)\n",
    "            normal_cos = 0\n",
    "            dot = 0\n",
    "            for i in range(k):\n",
    "                ind = sortedindex[i]\n",
    "                # normalize the similarity for the rated items\n",
    "                normal_cos += np.absolute(sim_cos[ind])\n",
    "                # similarity multiply the ratings\n",
    "                dot += sim_cos[ind] * train_matrix[ind][item-1]\n",
    "\n",
    "            if normal_cos > 0:\n",
    "                item_pred = dot / normal_cos\n",
    "\n",
    "        if item_pred < 0:\n",
    "            item_pred = 0\n",
    "\n",
    "        if item_pred > 5:\n",
    "            item_pred = 5\n",
    "\n",
    "        pred_rate.append(item_pred)\n",
    "\n",
    "    rmse= sqrt(mean_squared_error(true_rate, pred_rate))\n",
    "\n",
    "    return rmse,pred_rate"
   ]
  },
  {
   "cell_type": "code",
   "execution_count": 10,
   "metadata": {},
   "outputs": [],
   "source": [
    "#Rating predict function based on the the item-item similarity\n",
    "def itembased_predict_rmse(train, test, item_similarity, n_users, n_items, k):\n",
    "    print(\"Compute Item-based CF RMSE .......\", \"K =\", k)\n",
    "    # transfer the train set of ratings to user-item matrix\n",
    "    train = pd.DataFrame(train)\n",
    "    test = pd.DataFrame(test)\n",
    "    \n",
    "    train_matrix = np.zeros((n_users, n_items))\n",
    "    for line in train.itertuples():\n",
    "        train_matrix[line[1] - 1, line[2] - 1] = line[3]\n",
    "\n",
    "    true_rate = []\n",
    "    pred_rate = []\n",
    "\n",
    "    for line in test.itertuples():\n",
    "        user = line[1]\n",
    "        item = line[2]\n",
    "        true_rate.append(line[3])\n",
    "\n",
    "        item_pred = 3.0\n",
    "\n",
    "        if np.count_nonzero(train_matrix[:, item - 1]):\n",
    "            sim_cos_item = item_similarity[item - 1]\n",
    "            # sort the similarities, find the k similar items which has the laest the similarities\n",
    "            sortedindex = np.argsort(-sim_cos_item)\n",
    "            normal_cos_item = 0\n",
    "            dot = 0\n",
    "            for i in range(k):\n",
    "                ind = sortedindex[i]\n",
    "                # normalize the similarity for the rated items\n",
    "                normal_cos_item += np.absolute(sim_cos_item[ind])\n",
    "                # similarity multiply the ratings\n",
    "                dot += sim_cos_item[ind] * train_matrix[user - 1][ind]\n",
    "\n",
    "            if normal_cos_item > 0:\n",
    "                item_pred = dot / normal_cos_item\n",
    "\n",
    "        if item_pred < 0:\n",
    "            item_pred = 0\n",
    "\n",
    "        if item_pred > 5:\n",
    "            item_pred = 5\n",
    "\n",
    "        pred_rate.append(item_pred)\n",
    "\n",
    "    rmse= sqrt(mean_squared_error(true_rate, pred_rate))\n",
    "\n",
    "    return rmse,pred_rate"
   ]
  },
  {
   "cell_type": "markdown",
   "metadata": {},
   "source": [
    "## Pre-compute the user-user similarity matrix using pearson correlation\n",
    "The user-user similarity matrix represents the similiarty between each user-user pair. **It is important to note that this computation may take around 10 minutes or more to complete.**"
   ]
  },
  {
   "cell_type": "code",
   "execution_count": 11,
   "metadata": {},
   "outputs": [],
   "source": [
    "import scipy.stats\n",
    "import scipy.spatial\n",
    "import math\n",
    "from math import sqrt\n",
    "\n",
    "user_similarity_pearson = np.zeros((n_users, n_users))\n",
    "\n",
    "# compute the similarities in the upper triangle part\n",
    "for user1 in range(n_users):\n",
    "    for user2 in range(n_users):\n",
    "        if(user1 <= user2):\n",
    "            break\n",
    "        elif np.count_nonzero(user_item_matrix[user1]) and np.count_nonzero(user_item_matrix[user2]):\n",
    "            try:\n",
    "                if not math.isnan(scipy.stats.pearsonr(user_item_matrix[user1], user_item_matrix[user2])[0]):\n",
    "                    user_similarity_pearson[user1][user2] = scipy.stats.pearsonr(user_item_matrix[user1], user_item_matrix[user2])[0]\n",
    "                else:\n",
    "                    user_similarity_pearson[user1][user2] = 0\n",
    "            except:\n",
    "                user_similarity_pearson[user1][user2] = 0\n",
    "                \n",
    "# complete all entries by  add the transposed similarity matrix to our\n",
    "# previously computed values                \n",
    "user_similarity_pearson = user_similarity_pearson + user_similarity_pearson.T\n",
    "#print(user_similarity_pearson)"
   ]
  },
  {
   "cell_type": "markdown",
   "metadata": {},
   "source": [
    "## Pre-compute the item-item similarity matrix using pearson correlation\n",
    "The item-item similarity matrix represents the similiarty between each item-item pair. **It is important to note that this computation may take around 10 minutes or more to complete.**"
   ]
  },
  {
   "cell_type": "code",
   "execution_count": 12,
   "metadata": {},
   "outputs": [],
   "source": [
    "item_similarity_pearson = np.zeros((n_items, n_items))\n",
    "data = user_item_matrix.T.copy()\n",
    "# compute the similarities in the upper triangle part\n",
    "for item1 in range(n_items):\n",
    "    for item2 in range(n_items):\n",
    "        if item1 <= item2:\n",
    "            break\n",
    "        elif np.count_nonzero(data[item1]) and np.count_nonzero(data[item2]):\n",
    "            try:\n",
    "                if not math.isnan(scipy.stats.pearsonr(data[item1], data[item2])[0]):\n",
    "                    item_similarity_pearson[item1][item2] = scipy.stats.pearsonr(data[item1], data[item2])[0]\n",
    "                else:\n",
    "                    item_similarity_pearson[item1][item2] = 0\n",
    "            except:\n",
    "                item_similarity_pearson[item1][item2] = 0\n",
    "                \n",
    "# complete all entries by  add the transposed similarity matrix to our\n",
    "# previously computed values                \n",
    "item_similarity_pearson = item_similarity_pearson + item_similarity_pearson.T"
   ]
  },
  {
   "cell_type": "markdown",
   "metadata": {},
   "source": [
    "## Split the user-item matrix set into training set and testing set"
   ]
  },
  {
   "cell_type": "code",
   "execution_count": 13,
   "metadata": {},
   "outputs": [],
   "source": [
    "from sklearn.metrics import mean_squared_error\n",
    "from sklearn.model_selection import train_test_split\n",
    "\n",
    "# split the data set into training set and testing set\n",
    "train_data, test_data = train_test_split(df, test_size=0.25)"
   ]
  },
  {
   "cell_type": "markdown",
   "metadata": {},
   "source": [
    "## Rating predict function based on the the user-user similarity"
   ]
  },
  {
   "cell_type": "code",
   "execution_count": 14,
   "metadata": {},
   "outputs": [],
   "source": [
    "def userbased_predict_rmse(train, test, user_similarity, n_users, n_items, k):\n",
    "    \n",
    "    print(\"Compute User-based CF RMSE .......\", \"K =\", k)\n",
    "    # transfer the train set of ratings to user-item matrix\n",
    "    \n",
    "    train = pd.DataFrame(train)\n",
    "    test = pd.DataFrame(test)\n",
    "\n",
    "    train_matrix = np.zeros((n_users, n_items))\n",
    "    for line in train.itertuples():\n",
    "        train_matrix[int(line[1]) - 1, int(line[2]) - 1] = line[3]\n",
    "\n",
    "    true_rate = []\n",
    "    pred_rate = []\n",
    "\n",
    "    for line in test.itertuples():\n",
    "        user = int(line[1])\n",
    "        item = int(line[2])\n",
    "        true_rate.append(line[3])\n",
    "\n",
    "        item_pred = 3.0\n",
    "\n",
    "        if np.count_nonzero(train_matrix[user-1]):\n",
    "            sim_pearson = user_similarity[user - 1]\n",
    "            # sort the similarities in descending order, find the k similar items which has the largest similarities\n",
    "            sortedindex = np.argsort(-sim_pearson)\n",
    "            normal_pearson = 0\n",
    "            dot = 0\n",
    "            for i in range(k):\n",
    "                ind = sortedindex[i]\n",
    "                # normalize the similarity for the rated items\n",
    "                normal_pearson += np.absolute(sim_pearson[ind])\n",
    "                # similarity multiply the ratings\n",
    "                dot += sim_pearson[ind] * train_matrix[ind][item-1]\n",
    "\n",
    "            if normal_pearson > 0:\n",
    "                item_pred = dot / normal_pearson\n",
    "\n",
    "        if item_pred < 0:\n",
    "            item_pred = 0\n",
    "\n",
    "        if item_pred > 5:\n",
    "            item_pred = 5\n",
    "\n",
    "        pred_rate.append(item_pred)\n",
    "\n",
    "    rmse= sqrt(mean_squared_error(true_rate, pred_rate))\n",
    "\n",
    "    return rmse,pred_rate"
   ]
  },
  {
   "cell_type": "markdown",
   "metadata": {},
   "source": [
    "## Rating predict function based on the the item-item similarity"
   ]
  },
  {
   "cell_type": "code",
   "execution_count": 15,
   "metadata": {},
   "outputs": [],
   "source": [
    "def itembased_predict_rmse(train, test, item_similarity, n_users, n_items, k):\n",
    "    print(\"Compute Item-based CF RMSE .......\", \"K =\", k)\n",
    "    # transfer the train set of ratings to user-item matrix\n",
    "    train = pd.DataFrame(train)\n",
    "    test = pd.DataFrame(test)\n",
    "    \n",
    "    train_matrix = np.zeros((n_users, n_items))\n",
    "    for line in train.itertuples():\n",
    "        train_matrix[line[1] - 1, line[2] - 1] = line[3]\n",
    "\n",
    "    true_rate = []\n",
    "    pred_rate = []\n",
    "\n",
    "    for line in test.itertuples():\n",
    "        user = line[1]\n",
    "        item = line[2]\n",
    "        true_rate.append(line[3])\n",
    "\n",
    "        item_pred = 3.0\n",
    "\n",
    "        if np.count_nonzero(train_matrix[:, item - 1]):\n",
    "            sim_pearson = item_similarity[item - 1]\n",
    "            # sort the similarities, find the k similar items which has the laest the similarities\n",
    "            sortedindex = np.argsort(-sim_pearson)\n",
    "            normal_pearson = 0\n",
    "            dot = 0\n",
    "            for i in range(k):\n",
    "                ind = sortedindex[i]\n",
    "                # normalize the similarity for the rated items\n",
    "                normal_pearson += np.absolute(sim_pearson[ind])\n",
    "                # similarity multiply the ratings\n",
    "                dot += sim_pearson[ind] * train_matrix[user - 1][ind]\n",
    "\n",
    "            if normal_pearson > 0:\n",
    "                item_pred = dot / normal_pearson\n",
    "\n",
    "        if item_pred < 0:\n",
    "            item_pred = 0\n",
    "\n",
    "        if item_pred > 5:\n",
    "            item_pred = 5\n",
    "\n",
    "        pred_rate.append(item_pred)\n",
    "\n",
    "    rmse= sqrt(mean_squared_error(true_rate, pred_rate))\n",
    "\n",
    "    return rmse,pred_rate"
   ]
  },
  {
   "cell_type": "markdown",
   "metadata": {},
   "source": [
    "## Predict the ratings for testing set, and compute the RMSE"
   ]
  },
  {
   "cell_type": "code",
   "execution_count": 16,
   "metadata": {},
   "outputs": [
    {
     "name": "stdout",
     "output_type": "stream",
     "text": [
      "Compute User-based CF RMSE ....... K = 3\n",
      "Compute Item-based CF RMSE ....... K = 3\n",
      "Compute User-based CF RMSE ....... K = 3\n",
      "Compute Item-based CF RMSE ....... K = 3\n",
      "Compute User-based CF RMSE ....... K = 4\n",
      "Compute Item-based CF RMSE ....... K = 4\n",
      "Compute User-based CF RMSE ....... K = 4\n",
      "Compute Item-based CF RMSE ....... K = 4\n",
      "Compute User-based CF RMSE ....... K = 5\n",
      "Compute Item-based CF RMSE ....... K = 5\n",
      "Compute User-based CF RMSE ....... K = 5\n",
      "Compute Item-based CF RMSE ....... K = 5\n",
      "Compute User-based CF RMSE ....... K = 6\n",
      "Compute Item-based CF RMSE ....... K = 6\n",
      "Compute User-based CF RMSE ....... K = 6\n",
      "Compute Item-based CF RMSE ....... K = 6\n",
      "Compute User-based CF RMSE ....... K = 7\n",
      "Compute Item-based CF RMSE ....... K = 7\n",
      "Compute User-based CF RMSE ....... K = 7\n",
      "Compute Item-based CF RMSE ....... K = 7\n",
      "Compute User-based CF RMSE ....... K = 8\n",
      "Compute Item-based CF RMSE ....... K = 8\n",
      "Compute User-based CF RMSE ....... K = 8\n",
      "Compute Item-based CF RMSE ....... K = 8\n",
      "Compute User-based CF RMSE ....... K = 9\n",
      "Compute Item-based CF RMSE ....... K = 9\n",
      "Compute User-based CF RMSE ....... K = 9\n",
      "Compute Item-based CF RMSE ....... K = 9\n"
     ]
    }
   ],
   "source": [
    "rmse_user = []\n",
    "rmse_item = []\n",
    "rmse_user_cos=[]\n",
    "rmse_item_cos=[]\n",
    "#k=3-10\n",
    "for i in range(3,10):\n",
    "    k =  i\n",
    "    # user-based CF\n",
    "    rmse_u, pred_rate_u = userbased_predict_rmse(train_data, test_data, user_similarity_pearson, n_users, n_items, k)\n",
    "    rmse_user.append(rmse_u)\n",
    "    # item-based CF\n",
    "    rmse_i,pred_rate_i = itembased_predict_rmse(train_data, test_data, item_similarity_pearson, n_users, n_items, k)\n",
    "    rmse_item.append(rmse_i) \n",
    "    #user-based cosine CF\n",
    "    rmse_u_c, pred_rate_u_c = userbased_predict_rmse(train_data, test_data, user_similarity_cos, n_users, n_items, k)\n",
    "    rmse_user_cos.append(rmse_u_c)\n",
    "    #item-based cosine CF\n",
    "    rmse_i_c,pred_rate_i_c = itembased_predict_rmse(train_data, test_data, item_similarity_cos, n_users, n_items, k)\n",
    "    rmse_item_cos.append(rmse_i_c) \n",
    "    "
   ]
  },
  {
   "cell_type": "code",
   "execution_count": 17,
   "metadata": {},
   "outputs": [
    {
     "name": "stdout",
     "output_type": "stream",
     "text": [
      "Compute User-based CF RMSE ....... K = 10\n",
      "Compute Item-based CF RMSE ....... K = 10\n",
      "Compute User-based CF RMSE ....... K = 10\n",
      "Compute Item-based CF RMSE ....... K = 10\n",
      "Compute User-based CF RMSE ....... K = 20\n",
      "Compute Item-based CF RMSE ....... K = 20\n",
      "Compute User-based CF RMSE ....... K = 20\n",
      "Compute Item-based CF RMSE ....... K = 20\n",
      "Compute User-based CF RMSE ....... K = 30\n",
      "Compute Item-based CF RMSE ....... K = 30\n",
      "Compute User-based CF RMSE ....... K = 30\n",
      "Compute Item-based CF RMSE ....... K = 30\n",
      "Compute User-based CF RMSE ....... K = 40\n",
      "Compute Item-based CF RMSE ....... K = 40\n",
      "Compute User-based CF RMSE ....... K = 40\n",
      "Compute Item-based CF RMSE ....... K = 40\n",
      "Compute User-based CF RMSE ....... K = 50\n",
      "Compute Item-based CF RMSE ....... K = 50\n",
      "Compute User-based CF RMSE ....... K = 50\n",
      "Compute Item-based CF RMSE ....... K = 50\n",
      "Compute User-based CF RMSE ....... K = 60\n",
      "Compute Item-based CF RMSE ....... K = 60\n",
      "Compute User-based CF RMSE ....... K = 60\n",
      "Compute Item-based CF RMSE ....... K = 60\n",
      "Compute User-based CF RMSE ....... K = 70\n",
      "Compute Item-based CF RMSE ....... K = 70\n",
      "Compute User-based CF RMSE ....... K = 70\n",
      "Compute Item-based CF RMSE ....... K = 70\n",
      "Compute User-based CF RMSE ....... K = 80\n",
      "Compute Item-based CF RMSE ....... K = 80\n",
      "Compute User-based CF RMSE ....... K = 80\n",
      "Compute Item-based CF RMSE ....... K = 80\n",
      "Compute User-based CF RMSE ....... K = 90\n",
      "Compute Item-based CF RMSE ....... K = 90\n",
      "Compute User-based CF RMSE ....... K = 90\n",
      "Compute Item-based CF RMSE ....... K = 90\n",
      "Compute User-based CF RMSE ....... K = 100\n",
      "Compute Item-based CF RMSE ....... K = 100\n",
      "Compute User-based CF RMSE ....... K = 100\n",
      "Compute Item-based CF RMSE ....... K = 100\n"
     ]
    }
   ],
   "source": [
    "#k=10,20...,100\n",
    "for i in range(1,11):\n",
    "    k = 10 * i\n",
    "    # user-based CF\n",
    "    rmse_u,pred_rate_u = userbased_predict_rmse(train_data, test_data,user_similarity_pearson, n_users, n_items, k)\n",
    "    rmse_user.append(rmse_u)\n",
    "    # item-based CF\n",
    "    rmse_i,pred_rate_i = itembased_predict_rmse(train_data, test_data,item_similarity_pearson, n_users, n_items, k)\n",
    "    rmse_item.append(rmse_i)    \n",
    "    # user-based cosine CF\n",
    "    rmse_u_c,pred_rate_u_c = userbased_predict_rmse(train_data, test_data,user_similarity_cos, n_users, n_items, k)\n",
    "    rmse_user_cos.append(rmse_u_c)\n",
    "    # item-based cosine CF\n",
    "    rmse_i_c,pred_rate_i_c = itembased_predict_rmse(train_data, test_data,item_similarity_cos, n_users, n_items, k)\n",
    "    rmse_item_cos.append(rmse_i_c) "
   ]
  },
  {
   "cell_type": "code",
   "execution_count": 18,
   "metadata": {},
   "outputs": [
    {
     "name": "stdout",
     "output_type": "stream",
     "text": [
      "User-based RMSE:  [2.52081203683538, 2.4803229065200965, 2.459207548029785, 2.4499107042242714, 2.4426248003448676, 2.4374381489132095, 2.4350090483267706, 2.436398013962017, 2.448113232340031, 2.473710575643746, 2.4980101063396813, 2.520090903873294, 2.538152984005206, 2.5557627476409484, 2.5719216553243784, 2.5868197783406046, 2.601188587615798]\n",
      "Item-based RMSE:  [2.446918807137229, 2.4243349624450414, 2.4027200187514257, 2.3961252688121513, 2.392565549752692, 2.3918827215942593, 2.3924909593941406, 2.393415969877668, 2.4304081982888968, 2.466388665358408, 2.498320584195145, 2.528270130462014, 2.555468511146234, 2.5799823566666182, 2.60177012569345, 2.6214069843907084, 2.6394197079300623]\n",
      "User-based cosine RMSE:  [2.514824748121545, 2.47187022033502, 2.4466454170125482, 2.434804525132854, 2.4274712393865845, 2.4217510079546023, 2.4203530905719814, 2.4167227150205313, 2.4285869913542397, 2.4525597186714503, 2.4769744259835105, 2.4985258672785924, 2.518713716027802, 2.5365673115457708, 2.5533626097408506, 2.5680668798114463, 2.5817778419926314]\n",
      "Item-based cosine RMSE:  [2.278520556254921, 2.233045586465394, 2.212007595782783, 2.203036389024489, 2.1945136024333167, 2.189659854238161, 2.187446206434099, 2.189588250843463, 2.22493065934237, 2.2661869992173376, 2.3020550915835862, 2.3327636526535676, 2.3618132114481076, 2.3881522096336236, 2.412126276221556, 2.436360604253294, 2.459001731817081]\n",
      "[[2.52081204 2.44691881]\n",
      " [2.48032291 2.42433496]\n",
      " [2.45920755 2.40272002]\n",
      " [2.4499107  2.39612527]\n",
      " [2.4426248  2.39256555]\n",
      " [2.43743815 2.39188272]\n",
      " [2.43500905 2.39249096]\n",
      " [2.43639801 2.39341597]\n",
      " [2.44811323 2.4304082 ]\n",
      " [2.47371058 2.46638867]\n",
      " [2.49801011 2.49832058]\n",
      " [2.5200909  2.52827013]\n",
      " [2.53815298 2.55546851]\n",
      " [2.55576275 2.57998236]\n",
      " [2.57192166 2.60177013]\n",
      " [2.58681978 2.62140698]\n",
      " [2.60118859 2.63941971]]\n"
     ]
    }
   ],
   "source": [
    "print(\"User-based RMSE: \", rmse_user)\n",
    "print(\"Item-based RMSE: \", rmse_item)\n",
    "print(\"User-based cosine RMSE: \", rmse_user_cos)\n",
    "print(\"Item-based cosine RMSE: \", rmse_item_cos)\n",
    "m = np.zeros((17, 2))\n",
    "j = 0\n",
    "for i in range(17):\n",
    "    m[i][j] = rmse_user[i]\n",
    "j = 1\n",
    "for i in range(17):\n",
    "    m[i][j] = rmse_item[i]\n",
    "print(m)"
   ]
  },
  {
   "cell_type": "code",
   "execution_count": 19,
   "metadata": {},
   "outputs": [
    {
     "data": {
      "image/png": "[encoded data removed]",
      "text/plain": [
       "<Figure size 432x288 with 1 Axes>"
      ]
     },
     "metadata": {},
     "output_type": "display_data"
    }
   ],
   "source": [
    "import matplotlib.pyplot as plt\n",
    "%matplotlib inline\n",
    "#draw the graph\n",
    "idx = [3,4,5,6,7,8,9,10,20,30,40,50,60,70,80,90,100]\n",
    "plt.plot(idx, rmse_user, marker='v', label='U-CF-pcc')\n",
    "plt.plot(idx, rmse_item, marker='o', label='I-CF-pcc')\n",
    "plt.plot(idx, rmse_user_cos, marker='v', label='U-CF-cos')\n",
    "plt.plot(idx, rmse_item_cos, marker='o', label='I-CF-cos')\n",
    "\n",
    "plt.title('CF Rating Prediction')\n",
    "plt.xlabel('Number of Neighbors (K)')\n",
    "plt.ylabel('RMSE')\n",
    "plt.legend(loc='upper left')\n",
    "plt.grid()\n",
    "plt.show()"
   ]
  }
 ],
 "metadata": {
  "anaconda-cloud": {},
  "kernelspec": {
   "display_name": "Python 3",
   "language": "python",
   "name": "python3"
  },
  "language_info": {
   "codemirror_mode": {
    "name": "ipython",
    "version": 3
   },
   "file_extension": ".py",
   "mimetype": "text/x-python",
   "name": "python",
   "nbconvert_exporter": "python",
   "pygments_lexer": "ipython3",
   "version": "3.6.2"
  }
 },
 "nbformat": 4,
 "nbformat_minor": 1
}
